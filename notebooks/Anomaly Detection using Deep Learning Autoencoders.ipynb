{
 "cells": [
  {
   "cell_type": "code",
   "execution_count": 189,
   "id": "02e8bf34",
   "metadata": {},
   "outputs": [],
   "source": [
    "import matplotlib.pyplot as plt\n",
    "import numpy as np\n",
    "import pandas as pd\n",
    "import tensorflow as tf\n",
    "\n",
    "from sklearn.metrics import accuracy_score, precision_score, recall_score\n",
    "from sklearn.model_selection import train_test_split\n",
    "from tensorflow.keras import layers, losses\n",
    "from tensorflow.keras.datasets import fashion_mnist\n",
    "from tensorflow.keras.models import Model"
   ]
  },
  {
   "cell_type": "code",
   "execution_count": 228,
   "id": "3ac8a8ec",
   "metadata": {},
   "outputs": [],
   "source": [
    "df_raw = pd.read_csv('C:\\\\Users\\\\en89912\\\\Downloads\\\\machine_measurements.csv')"
   ]
  },
  {
   "cell_type": "code",
   "execution_count": 229,
   "id": "bfcd2c74",
   "metadata": {},
   "outputs": [
    {
     "data": {
      "text/html": [
       "<div>\n",
       "<style scoped>\n",
       "    .dataframe tbody tr th:only-of-type {\n",
       "        vertical-align: middle;\n",
       "    }\n",
       "\n",
       "    .dataframe tbody tr th {\n",
       "        vertical-align: top;\n",
       "    }\n",
       "\n",
       "    .dataframe thead th {\n",
       "        text-align: right;\n",
       "    }\n",
       "</style>\n",
       "<table border=\"1\" class=\"dataframe\">\n",
       "  <thead>\n",
       "    <tr style=\"text-align: right;\">\n",
       "      <th></th>\n",
       "      <th>EnginePowerPercentage_prcnt</th>\n",
       "      <th>FuelTemperature_C</th>\n",
       "      <th>EngineCoolantTemperature_C</th>\n",
       "      <th>ActualEnginePercentTorque_prcnt</th>\n",
       "      <th>DieselExaustFluidLevelPercentage_prcnt</th>\n",
       "      <th>FuelLevelPercentage_prcnt</th>\n",
       "      <th>TransmissionOilTemperature_C</th>\n",
       "      <th>EngineSpeed_RPM</th>\n",
       "      <th>EngineOilPressure_bar</th>\n",
       "    </tr>\n",
       "  </thead>\n",
       "  <tbody>\n",
       "    <tr>\n",
       "      <th>0</th>\n",
       "      <td>9.0</td>\n",
       "      <td>31.0</td>\n",
       "      <td>35.0</td>\n",
       "      <td>8.0</td>\n",
       "      <td>NaN</td>\n",
       "      <td>100.0</td>\n",
       "      <td>30.0</td>\n",
       "      <td>896.50</td>\n",
       "      <td>2.40</td>\n",
       "    </tr>\n",
       "    <tr>\n",
       "      <th>1</th>\n",
       "      <td>9.0</td>\n",
       "      <td>31.0</td>\n",
       "      <td>35.0</td>\n",
       "      <td>8.0</td>\n",
       "      <td>NaN</td>\n",
       "      <td>100.0</td>\n",
       "      <td>30.0</td>\n",
       "      <td>894.50</td>\n",
       "      <td>2.40</td>\n",
       "    </tr>\n",
       "    <tr>\n",
       "      <th>2</th>\n",
       "      <td>9.0</td>\n",
       "      <td>31.0</td>\n",
       "      <td>35.0</td>\n",
       "      <td>8.0</td>\n",
       "      <td>NaN</td>\n",
       "      <td>100.0</td>\n",
       "      <td>30.0</td>\n",
       "      <td>906.50</td>\n",
       "      <td>2.44</td>\n",
       "    </tr>\n",
       "    <tr>\n",
       "      <th>3</th>\n",
       "      <td>9.0</td>\n",
       "      <td>31.0</td>\n",
       "      <td>35.0</td>\n",
       "      <td>8.0</td>\n",
       "      <td>NaN</td>\n",
       "      <td>100.0</td>\n",
       "      <td>30.0</td>\n",
       "      <td>895.25</td>\n",
       "      <td>2.44</td>\n",
       "    </tr>\n",
       "    <tr>\n",
       "      <th>4</th>\n",
       "      <td>9.0</td>\n",
       "      <td>31.0</td>\n",
       "      <td>36.0</td>\n",
       "      <td>8.0</td>\n",
       "      <td>NaN</td>\n",
       "      <td>100.0</td>\n",
       "      <td>30.0</td>\n",
       "      <td>900.50</td>\n",
       "      <td>2.44</td>\n",
       "    </tr>\n",
       "    <tr>\n",
       "      <th>...</th>\n",
       "      <td>...</td>\n",
       "      <td>...</td>\n",
       "      <td>...</td>\n",
       "      <td>...</td>\n",
       "      <td>...</td>\n",
       "      <td>...</td>\n",
       "      <td>...</td>\n",
       "      <td>...</td>\n",
       "      <td>...</td>\n",
       "    </tr>\n",
       "    <tr>\n",
       "      <th>999995</th>\n",
       "      <td>26.0</td>\n",
       "      <td>215.0</td>\n",
       "      <td>95.0</td>\n",
       "      <td>21.0</td>\n",
       "      <td>83.2</td>\n",
       "      <td>101.6</td>\n",
       "      <td>73.0</td>\n",
       "      <td>1147.50</td>\n",
       "      <td>2.48</td>\n",
       "    </tr>\n",
       "    <tr>\n",
       "      <th>999996</th>\n",
       "      <td>26.0</td>\n",
       "      <td>215.0</td>\n",
       "      <td>95.0</td>\n",
       "      <td>22.0</td>\n",
       "      <td>83.2</td>\n",
       "      <td>101.6</td>\n",
       "      <td>73.0</td>\n",
       "      <td>1143.00</td>\n",
       "      <td>2.44</td>\n",
       "    </tr>\n",
       "    <tr>\n",
       "      <th>999997</th>\n",
       "      <td>26.0</td>\n",
       "      <td>215.0</td>\n",
       "      <td>95.0</td>\n",
       "      <td>22.0</td>\n",
       "      <td>83.2</td>\n",
       "      <td>101.6</td>\n",
       "      <td>73.0</td>\n",
       "      <td>1144.25</td>\n",
       "      <td>2.44</td>\n",
       "    </tr>\n",
       "    <tr>\n",
       "      <th>999998</th>\n",
       "      <td>26.0</td>\n",
       "      <td>215.0</td>\n",
       "      <td>95.0</td>\n",
       "      <td>21.0</td>\n",
       "      <td>83.2</td>\n",
       "      <td>101.6</td>\n",
       "      <td>73.0</td>\n",
       "      <td>1147.00</td>\n",
       "      <td>2.44</td>\n",
       "    </tr>\n",
       "    <tr>\n",
       "      <th>999999</th>\n",
       "      <td>32.0</td>\n",
       "      <td>215.0</td>\n",
       "      <td>95.0</td>\n",
       "      <td>25.0</td>\n",
       "      <td>83.2</td>\n",
       "      <td>6.8</td>\n",
       "      <td>73.0</td>\n",
       "      <td>1115.75</td>\n",
       "      <td>2.44</td>\n",
       "    </tr>\n",
       "  </tbody>\n",
       "</table>\n",
       "<p>1000000 rows × 9 columns</p>\n",
       "</div>"
      ],
      "text/plain": [
       "        EnginePowerPercentage_prcnt  FuelTemperature_C  \\\n",
       "0                               9.0               31.0   \n",
       "1                               9.0               31.0   \n",
       "2                               9.0               31.0   \n",
       "3                               9.0               31.0   \n",
       "4                               9.0               31.0   \n",
       "...                             ...                ...   \n",
       "999995                         26.0              215.0   \n",
       "999996                         26.0              215.0   \n",
       "999997                         26.0              215.0   \n",
       "999998                         26.0              215.0   \n",
       "999999                         32.0              215.0   \n",
       "\n",
       "        EngineCoolantTemperature_C  ActualEnginePercentTorque_prcnt  \\\n",
       "0                             35.0                              8.0   \n",
       "1                             35.0                              8.0   \n",
       "2                             35.0                              8.0   \n",
       "3                             35.0                              8.0   \n",
       "4                             36.0                              8.0   \n",
       "...                            ...                              ...   \n",
       "999995                        95.0                             21.0   \n",
       "999996                        95.0                             22.0   \n",
       "999997                        95.0                             22.0   \n",
       "999998                        95.0                             21.0   \n",
       "999999                        95.0                             25.0   \n",
       "\n",
       "        DieselExaustFluidLevelPercentage_prcnt  FuelLevelPercentage_prcnt  \\\n",
       "0                                          NaN                      100.0   \n",
       "1                                          NaN                      100.0   \n",
       "2                                          NaN                      100.0   \n",
       "3                                          NaN                      100.0   \n",
       "4                                          NaN                      100.0   \n",
       "...                                        ...                        ...   \n",
       "999995                                    83.2                      101.6   \n",
       "999996                                    83.2                      101.6   \n",
       "999997                                    83.2                      101.6   \n",
       "999998                                    83.2                      101.6   \n",
       "999999                                    83.2                        6.8   \n",
       "\n",
       "        TransmissionOilTemperature_C  EngineSpeed_RPM  EngineOilPressure_bar  \n",
       "0                               30.0           896.50                   2.40  \n",
       "1                               30.0           894.50                   2.40  \n",
       "2                               30.0           906.50                   2.44  \n",
       "3                               30.0           895.25                   2.44  \n",
       "4                               30.0           900.50                   2.44  \n",
       "...                              ...              ...                    ...  \n",
       "999995                          73.0          1147.50                   2.48  \n",
       "999996                          73.0          1143.00                   2.44  \n",
       "999997                          73.0          1144.25                   2.44  \n",
       "999998                          73.0          1147.00                   2.44  \n",
       "999999                          73.0          1115.75                   2.44  \n",
       "\n",
       "[1000000 rows x 9 columns]"
      ]
     },
     "metadata": {},
     "output_type": "display_data"
    }
   ],
   "source": [
    "display(df_raw)"
   ]
  },
  {
   "cell_type": "code",
   "execution_count": 230,
   "id": "6fbc406b",
   "metadata": {},
   "outputs": [],
   "source": [
    "features = ['EnginePowerPercentage_prcnt', 'FuelTemperature_C', 'EngineCoolantTemperature_C', 'ActualEnginePercentTorque_prcnt',\n",
    "            'DieselExaustFluidLevelPercentage_prcnt', 'FuelLevelPercentage_prcnt', 'TransmissionOilTemperature_C', 'EngineSpeed_RPM', 'EngineOilPressure_bar']"
   ]
  },
  {
   "cell_type": "code",
   "execution_count": 231,
   "id": "332078dd",
   "metadata": {},
   "outputs": [],
   "source": [
    "df = df_raw[features]"
   ]
  },
  {
   "cell_type": "code",
   "execution_count": 232,
   "id": "14d6cd2b",
   "metadata": {},
   "outputs": [],
   "source": [
    "df = df.fillna(0)"
   ]
  },
  {
   "cell_type": "code",
   "execution_count": 233,
   "id": "eca0854f",
   "metadata": {},
   "outputs": [
    {
     "name": "stdout",
     "output_type": "stream",
     "text": [
      "(1000000, 9)\n"
     ]
    }
   ],
   "source": [
    "print(df.shape)"
   ]
  },
  {
   "cell_type": "code",
   "execution_count": 271,
   "id": "0981a74f",
   "metadata": {},
   "outputs": [],
   "source": [
    "from sklearn.decomposition import PCA\n",
    "\n",
    "pca = PCA(n_components=2)\n",
    "components = pca.fit_transform(df)"
   ]
  },
  {
   "cell_type": "code",
   "execution_count": 272,
   "id": "a1fc04f0",
   "metadata": {
    "scrolled": false
   },
   "outputs": [
    {
     "name": "stdout",
     "output_type": "stream",
     "text": [
      "(1000000, 2)\n"
     ]
    }
   ],
   "source": [
    "print(components.shape)"
   ]
  },
  {
   "cell_type": "code",
   "execution_count": 273,
   "id": "f4cc3452",
   "metadata": {},
   "outputs": [],
   "source": [
    "df_pca = pd.DataFrame(components, columns=['x','y'])"
   ]
  },
  {
   "cell_type": "code",
   "execution_count": 274,
   "id": "6ed4a817",
   "metadata": {
    "scrolled": true
   },
   "outputs": [
    {
     "data": {
      "text/plain": [
       "<AxesSubplot:xlabel='x', ylabel='y'>"
      ]
     },
     "execution_count": 274,
     "metadata": {},
     "output_type": "execute_result"
    },
    {
     "data": {
      "image/png": "[encoded data removed]",
      "text/plain": [
       "<Figure size 432x288 with 1 Axes>"
      ]
     },
     "metadata": {
      "needs_background": "light"
     },
     "output_type": "display_data"
    }
   ],
   "source": [
    "import seaborn as sns\n",
    "\n",
    "sns.scatterplot(data=df_pca, x=\"x\", y=\"y\")"
   ]
  },
  {
   "cell_type": "code",
   "execution_count": 288,
   "id": "4d8249b0",
   "metadata": {},
   "outputs": [],
   "source": [
    "latent_dim = 5\n",
    "\n",
    "class Autoencoder(Model):\n",
    "  def __init__(self, latent_dim):\n",
    "    super(Autoencoder, self).__init__()\n",
    "    self.latent_dim = latent_dim   \n",
    "    self.encoder = tf.keras.Sequential([\n",
    "      layers.Dense(latent_dim, activation='relu'),\n",
    "    ])\n",
    "    self.decoder = tf.keras.Sequential([\n",
    "      layers.Dense(9, activation='sigmoid'),\n",
    "    ])\n",
    "\n",
    "  def call(self, x):\n",
    "    encoded = self.encoder(x)\n",
    "    decoded = self.decoder(encoded)\n",
    "    return decoded\n",
    "\n",
    "autoencoder = Autoencoder(latent_dim)"
   ]
  },
  {
   "cell_type": "code",
   "execution_count": 289,
   "id": "50b111b2",
   "metadata": {},
   "outputs": [],
   "source": [
    "autoencoder.compile(optimizer='adam', loss=losses.MeanSquaredError())"
   ]
  },
  {
   "cell_type": "code",
   "execution_count": 290,
   "id": "790c08cc",
   "metadata": {},
   "outputs": [],
   "source": [
    "train_df, test_df, _, _ = train_test_split(\n",
    "    df, df, test_size=0.2, random_state=21\n",
    ")"
   ]
  },
  {
   "cell_type": "code",
   "execution_count": 291,
   "id": "1902764b",
   "metadata": {},
   "outputs": [],
   "source": [
    "min_val = tf.reduce_min(train_df).numpy()\n",
    "max_val = tf.reduce_max(train_df).numpy()\n",
    "\n",
    "train_data = (train_df - min_val) / (max_val - min_val)\n",
    "test_data = (test_df - min_val) / (max_val - min_val)\n",
    "\n",
    "train_data = tf.cast(train_data, tf.float32)\n",
    "test_data = tf.cast(test_data, tf.float32)"
   ]
  },
  {
   "cell_type": "code",
   "execution_count": 292,
   "id": "3a38b1a1",
   "metadata": {
    "scrolled": true
   },
   "outputs": [
    {
     "name": "stdout",
     "output_type": "stream",
     "text": [
      "tf.Tensor(\n",
      "[[2.8848596e-02 8.5326834e-03 1.0564274e-02 ... 2.4582254e-02\n",
      "  3.6568642e-01 1.3002184e-04]\n",
      " [2.8848596e-02 8.5326834e-03 1.0564274e-02 ... 2.4582254e-02\n",
      "  3.6568642e-01 1.3002184e-04]\n",
      " [2.8848596e-02 8.5326834e-03 1.0564274e-02 ... 2.4582254e-02\n",
      "  3.6568642e-01 1.3002184e-04]\n",
      " ...\n",
      " [2.8848596e-02 8.5326834e-03 1.0564274e-02 ... 2.4582254e-02\n",
      "  3.6568642e-01 1.3002184e-04]\n",
      " [1.6659047e-02 8.7358423e-02 3.8600232e-02 ... 2.7629642e-02\n",
      "  8.0202144e-01 1.1539438e-03]\n",
      " [2.8848596e-02 8.5326834e-03 1.0564274e-02 ... 2.4582254e-02\n",
      "  3.6568642e-01 1.3002184e-04]], shape=(800000, 9), dtype=float32)\n"
     ]
    }
   ],
   "source": [
    "print(train_data)"
   ]
  },
  {
   "cell_type": "code",
   "execution_count": 293,
   "id": "4d12afb5",
   "metadata": {},
   "outputs": [
    {
     "name": "stdout",
     "output_type": "stream",
     "text": [
      "tf.Tensor(\n",
      "[[2.8848596e-02 8.5326834e-03 1.0564274e-02 ... 2.4582254e-02\n",
      "  3.6568642e-01 1.3002184e-04]\n",
      " [1.7065367e-02 8.7358423e-02 3.2099143e-02 ... 2.7223323e-02\n",
      "  7.0384479e-01 1.1539438e-03]\n",
      " [2.8848596e-02 8.5326834e-03 1.0564274e-02 ... 2.4582254e-02\n",
      "  3.6568642e-01 1.3002184e-04]\n",
      " ...\n",
      " [2.8848596e-02 8.5326834e-03 1.0564274e-02 ... 2.4582254e-02\n",
      "  3.6568642e-01 1.3002184e-04]\n",
      " [2.8848596e-02 8.5326834e-03 1.0564274e-02 ... 2.4582254e-02\n",
      "  3.6568642e-01 1.3002184e-04]\n",
      " [2.8848596e-02 8.5326834e-03 1.0564274e-02 ... 2.4582254e-02\n",
      "  3.6568642e-01 1.3002184e-04]], shape=(200000, 9), dtype=float32)\n"
     ]
    }
   ],
   "source": [
    "print(test_data)"
   ]
  },
  {
   "cell_type": "code",
   "execution_count": 294,
   "id": "f6e001f0",
   "metadata": {},
   "outputs": [
    {
     "name": "stdout",
     "output_type": "stream",
     "text": [
      "Epoch 1/10\n",
      "25000/25000 [==============================] - 21s 845us/step - loss: 0.0024 - val_loss: 8.2683e-06\n",
      "Epoch 2/10\n",
      "25000/25000 [==============================] - 21s 836us/step - loss: 7.2261e-06 - val_loss: 6.7358e-06\n",
      "Epoch 3/10\n",
      "25000/25000 [==============================] - 21s 856us/step - loss: 6.3912e-06 - val_loss: 6.3656e-06\n",
      "Epoch 4/10\n",
      "25000/25000 [==============================] - 22s 870us/step - loss: 6.0449e-06 - val_loss: 6.0827e-06\n",
      "Epoch 5/10\n",
      "25000/25000 [==============================] - 21s 837us/step - loss: 5.8538e-06 - val_loss: 5.7363e-06\n",
      "Epoch 6/10\n",
      "25000/25000 [==============================] - 22s 868us/step - loss: 5.7474e-06 - val_loss: 5.7671e-06\n",
      "Epoch 7/10\n",
      "25000/25000 [==============================] - 23s 905us/step - loss: 5.6845e-06 - val_loss: 5.5841e-06\n",
      "Epoch 8/10\n",
      "25000/25000 [==============================] - 21s 831us/step - loss: 5.6472e-06 - val_loss: 5.5552e-06\n",
      "Epoch 9/10\n",
      "25000/25000 [==============================] - 22s 873us/step - loss: 5.6202e-06 - val_loss: 5.5291e-06\n",
      "Epoch 10/10\n",
      "25000/25000 [==============================] - 22s 866us/step - loss: 5.5938e-06 - val_loss: 5.5680e-06\n"
     ]
    }
   ],
   "source": [
    "history = autoencoder.fit(train_data, train_data,\n",
    "                epochs=10,\n",
    "                shuffle=True,\n",
    "                validation_data=(test_data, test_data))"
   ]
  },
  {
   "cell_type": "code",
   "execution_count": 282,
   "id": "8acb6eca",
   "metadata": {},
   "outputs": [
    {
     "data": {
      "text/plain": [
       "<matplotlib.legend.Legend at 0x190061c1c50>"
      ]
     },
     "execution_count": 282,
     "metadata": {},
     "output_type": "execute_result"
    },
    {
     "data": {
      "image/png": "[encoded data removed]",
      "text/plain": [
       "<Figure size 432x288 with 1 Axes>"
      ]
     },
     "metadata": {
      "needs_background": "light"
     },
     "output_type": "display_data"
    }
   ],
   "source": [
    "plt.plot(history.history[\"loss\"], label=\"Training Loss\")\n",
    "plt.plot(history.history[\"val_loss\"], label=\"Validation Loss\")\n",
    "plt.legend()"
   ]
  },
  {
   "cell_type": "code",
   "execution_count": 283,
   "id": "e1118df4",
   "metadata": {},
   "outputs": [
    {
     "name": "stdout",
     "output_type": "stream",
     "text": [
      "tf.Tensor([0.00012907 0.00380314 0.00012907 ... 0.00012907 0.00012907 0.00012907], shape=(200000,), dtype=float32)\n"
     ]
    }
   ],
   "source": [
    "print(train_loss)"
   ]
  },
  {
   "cell_type": "code",
   "execution_count": 284,
   "id": "91cf6a1e",
   "metadata": {},
   "outputs": [
    {
     "name": "stdout",
     "output_type": "stream",
     "text": [
      "6250/6250 [==============================] - 4s 577us/step\n"
     ]
    },
    {
     "data": {
      "image/png": "[encoded data removed]",
      "text/plain": [
       "<Figure size 432x288 with 1 Axes>"
      ]
     },
     "metadata": {
      "needs_background": "light"
     },
     "output_type": "display_data"
    }
   ],
   "source": [
    "reconstructions = autoencoder.predict(test_data)\n",
    "train_loss = tf.keras.losses.mae(reconstructions, test_data)\n",
    "\n",
    "plt.hist(train_loss[None,:], bins=50)\n",
    "plt.xlabel(\"Train loss\")\n",
    "plt.ylabel(\"No of examples\")\n",
    "plt.show()"
   ]
  },
  {
   "cell_type": "code",
   "execution_count": 285,
   "id": "d7da707d",
   "metadata": {},
   "outputs": [
    {
     "name": "stdout",
     "output_type": "stream",
     "text": [
      "10\n",
      "(200000,)\n",
      "[0.00018117 0.00355553 0.00018117 ... 0.00018117 0.00018117 0.00018117]\n"
     ]
    }
   ],
   "source": [
    "a = train_loss > 0.015\n",
    "print(np.sum(a))\n",
    "print(train_loss.numpy().shape)\n",
    "print(train_loss.numpy())"
   ]
  },
  {
   "cell_type": "code",
   "execution_count": 286,
   "id": "cf5d31d3",
   "metadata": {},
   "outputs": [],
   "source": [
    "index = np.where(train_loss.numpy() > 0.015)"
   ]
  },
  {
   "cell_type": "code",
   "execution_count": 287,
   "id": "017df6c3",
   "metadata": {
    "scrolled": false
   },
   "outputs": [
    {
     "data": {
      "text/html": [
       "<div>\n",
       "<style scoped>\n",
       "    .dataframe tbody tr th:only-of-type {\n",
       "        vertical-align: middle;\n",
       "    }\n",
       "\n",
       "    .dataframe tbody tr th {\n",
       "        vertical-align: top;\n",
       "    }\n",
       "\n",
       "    .dataframe thead th {\n",
       "        text-align: right;\n",
       "    }\n",
       "</style>\n",
       "<table border=\"1\" class=\"dataframe\">\n",
       "  <thead>\n",
       "    <tr style=\"text-align: right;\">\n",
       "      <th></th>\n",
       "      <th>EnginePowerPercentage_prcnt</th>\n",
       "      <th>FuelTemperature_C</th>\n",
       "      <th>EngineCoolantTemperature_C</th>\n",
       "      <th>ActualEnginePercentTorque_prcnt</th>\n",
       "      <th>DieselExaustFluidLevelPercentage_prcnt</th>\n",
       "      <th>FuelLevelPercentage_prcnt</th>\n",
       "      <th>TransmissionOilTemperature_C</th>\n",
       "      <th>EngineSpeed_RPM</th>\n",
       "      <th>EngineOilPressure_bar</th>\n",
       "    </tr>\n",
       "  </thead>\n",
       "  <tbody>\n",
       "    <tr>\n",
       "      <th>830939</th>\n",
       "      <td>100.0</td>\n",
       "      <td>215.0</td>\n",
       "      <td>78.0</td>\n",
       "      <td>44.0</td>\n",
       "      <td>77.6</td>\n",
       "      <td>0.0</td>\n",
       "      <td>45.0</td>\n",
       "      <td>762.625</td>\n",
       "      <td>0.00</td>\n",
       "    </tr>\n",
       "    <tr>\n",
       "      <th>898600</th>\n",
       "      <td>1.0</td>\n",
       "      <td>215.0</td>\n",
       "      <td>100.0</td>\n",
       "      <td>94.0</td>\n",
       "      <td>91.6</td>\n",
       "      <td>101.6</td>\n",
       "      <td>71.0</td>\n",
       "      <td>2276.625</td>\n",
       "      <td>2.64</td>\n",
       "    </tr>\n",
       "    <tr>\n",
       "      <th>384354</th>\n",
       "      <td>0.0</td>\n",
       "      <td>0.0</td>\n",
       "      <td>0.0</td>\n",
       "      <td>42.0</td>\n",
       "      <td>0.0</td>\n",
       "      <td>0.0</td>\n",
       "      <td>0.0</td>\n",
       "      <td>900.000</td>\n",
       "      <td>0.00</td>\n",
       "    </tr>\n",
       "    <tr>\n",
       "      <th>931100</th>\n",
       "      <td>19.0</td>\n",
       "      <td>215.0</td>\n",
       "      <td>85.0</td>\n",
       "      <td>81.0</td>\n",
       "      <td>77.2</td>\n",
       "      <td>32.0</td>\n",
       "      <td>59.0</td>\n",
       "      <td>2114.750</td>\n",
       "      <td>3.08</td>\n",
       "    </tr>\n",
       "    <tr>\n",
       "      <th>792981</th>\n",
       "      <td>71.0</td>\n",
       "      <td>0.0</td>\n",
       "      <td>0.0</td>\n",
       "      <td>0.0</td>\n",
       "      <td>0.0</td>\n",
       "      <td>0.0</td>\n",
       "      <td>0.0</td>\n",
       "      <td>900.000</td>\n",
       "      <td>0.00</td>\n",
       "    </tr>\n",
       "    <tr>\n",
       "      <th>928782</th>\n",
       "      <td>19.0</td>\n",
       "      <td>215.0</td>\n",
       "      <td>85.0</td>\n",
       "      <td>81.0</td>\n",
       "      <td>77.2</td>\n",
       "      <td>32.0</td>\n",
       "      <td>59.0</td>\n",
       "      <td>2114.750</td>\n",
       "      <td>3.08</td>\n",
       "    </tr>\n",
       "    <tr>\n",
       "      <th>179934</th>\n",
       "      <td>0.0</td>\n",
       "      <td>0.0</td>\n",
       "      <td>0.0</td>\n",
       "      <td>42.0</td>\n",
       "      <td>0.0</td>\n",
       "      <td>74.8</td>\n",
       "      <td>0.0</td>\n",
       "      <td>900.000</td>\n",
       "      <td>0.32</td>\n",
       "    </tr>\n",
       "    <tr>\n",
       "      <th>797582</th>\n",
       "      <td>71.0</td>\n",
       "      <td>0.0</td>\n",
       "      <td>0.0</td>\n",
       "      <td>0.0</td>\n",
       "      <td>0.0</td>\n",
       "      <td>0.0</td>\n",
       "      <td>0.0</td>\n",
       "      <td>900.000</td>\n",
       "      <td>0.32</td>\n",
       "    </tr>\n",
       "    <tr>\n",
       "      <th>925775</th>\n",
       "      <td>19.0</td>\n",
       "      <td>215.0</td>\n",
       "      <td>85.0</td>\n",
       "      <td>81.0</td>\n",
       "      <td>77.2</td>\n",
       "      <td>32.0</td>\n",
       "      <td>59.0</td>\n",
       "      <td>2114.750</td>\n",
       "      <td>3.08</td>\n",
       "    </tr>\n",
       "    <tr>\n",
       "      <th>906270</th>\n",
       "      <td>2.0</td>\n",
       "      <td>215.0</td>\n",
       "      <td>96.0</td>\n",
       "      <td>72.0</td>\n",
       "      <td>94.4</td>\n",
       "      <td>101.6</td>\n",
       "      <td>61.0</td>\n",
       "      <td>1386.000</td>\n",
       "      <td>2.48</td>\n",
       "    </tr>\n",
       "  </tbody>\n",
       "</table>\n",
       "</div>"
      ],
      "text/plain": [
       "        EnginePowerPercentage_prcnt  FuelTemperature_C  \\\n",
       "830939                        100.0              215.0   \n",
       "898600                          1.0              215.0   \n",
       "384354                          0.0                0.0   \n",
       "931100                         19.0              215.0   \n",
       "792981                         71.0                0.0   \n",
       "928782                         19.0              215.0   \n",
       "179934                          0.0                0.0   \n",
       "797582                         71.0                0.0   \n",
       "925775                         19.0              215.0   \n",
       "906270                          2.0              215.0   \n",
       "\n",
       "        EngineCoolantTemperature_C  ActualEnginePercentTorque_prcnt  \\\n",
       "830939                        78.0                             44.0   \n",
       "898600                       100.0                             94.0   \n",
       "384354                         0.0                             42.0   \n",
       "931100                        85.0                             81.0   \n",
       "792981                         0.0                              0.0   \n",
       "928782                        85.0                             81.0   \n",
       "179934                         0.0                             42.0   \n",
       "797582                         0.0                              0.0   \n",
       "925775                        85.0                             81.0   \n",
       "906270                        96.0                             72.0   \n",
       "\n",
       "        DieselExaustFluidLevelPercentage_prcnt  FuelLevelPercentage_prcnt  \\\n",
       "830939                                    77.6                        0.0   \n",
       "898600                                    91.6                      101.6   \n",
       "384354                                     0.0                        0.0   \n",
       "931100                                    77.2                       32.0   \n",
       "792981                                     0.0                        0.0   \n",
       "928782                                    77.2                       32.0   \n",
       "179934                                     0.0                       74.8   \n",
       "797582                                     0.0                        0.0   \n",
       "925775                                    77.2                       32.0   \n",
       "906270                                    94.4                      101.6   \n",
       "\n",
       "        TransmissionOilTemperature_C  EngineSpeed_RPM  EngineOilPressure_bar  \n",
       "830939                          45.0          762.625                   0.00  \n",
       "898600                          71.0         2276.625                   2.64  \n",
       "384354                           0.0          900.000                   0.00  \n",
       "931100                          59.0         2114.750                   3.08  \n",
       "792981                           0.0          900.000                   0.00  \n",
       "928782                          59.0         2114.750                   3.08  \n",
       "179934                           0.0          900.000                   0.32  \n",
       "797582                           0.0          900.000                   0.32  \n",
       "925775                          59.0         2114.750                   3.08  \n",
       "906270                          61.0         1386.000                   2.48  "
      ]
     },
     "metadata": {},
     "output_type": "display_data"
    }
   ],
   "source": [
    "pd.set_option('display.max_rows', 500)\n",
    "\n",
    "display(test_df.iloc[index])"
   ]
  },
  {
   "cell_type": "code",
   "execution_count": null,
   "id": "9e18ab8a",
   "metadata": {},
   "outputs": [],
   "source": []
  }
 ],
 "metadata": {
  "kernelspec": {
   "display_name": "Python 3 (ipykernel)",
   "language": "python",
   "name": "python3"
  },
  "language_info": {
   "codemirror_mode": {
    "name": "ipython",
    "version": 3
   },
   "file_extension": ".py",
   "mimetype": "text/x-python",
   "name": "python",
   "nbconvert_exporter": "python",
   "pygments_lexer": "ipython3",
   "version": "3.7.1"
  }
 },
 "nbformat": 4,
 "nbformat_minor": 5
}
