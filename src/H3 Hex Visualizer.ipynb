{
 "cells": [
  {
   "cell_type": "code",
   "execution_count": 2,
   "id": "fafbd8b2",
   "metadata": {},
   "outputs": [],
   "source": [
    "import pandas as pd\n",
    "import numpy as np\n",
    "\n",
    "import folium\n",
    "import h3"
   ]
  },
  {
   "cell_type": "code",
   "execution_count": 3,
   "id": "aa20e957",
   "metadata": {},
   "outputs": [
    {
     "data": {
      "text/html": [
       "<div style=\"width:100%;\"><div style=\"position:relative;width:100%;height:0;padding-bottom:60%;\"><span style=\"color:#565656\">Make this Notebook Trusted to load map: File -> Trust Notebook</span><iframe srcdoc=\"&lt;!DOCTYPE html&gt;\n",
       "&lt;html&gt;\n",
       "&lt;head&gt;\n",
       "    \n",
       "    &lt;meta http-equiv=&quot;content-type&quot; content=&quot;text/html; charset=UTF-8&quot; /&gt;\n",
       "    \n",
       "        &lt;script&gt;\n",
       "            L_NO_TOUCH = false;\n",
       "            L_DISABLE_3D = false;\n",
       "        &lt;/script&gt;\n",
       "    \n",
       "    &lt;style&gt;html, body {width: 100%;height: 100%;margin: 0;padding: 0;}&lt;/style&gt;\n",
       "    &lt;style&gt;#map {position:absolute;top:0;bottom:0;right:0;left:0;}&lt;/style&gt;\n",
       "    &lt;script src=&quot;https://cdn.jsdelivr.net/npm/leaflet@1.6.0/dist/leaflet.js&quot;&gt;&lt;/script&gt;\n",
       "    &lt;script src=&quot;https://code.jquery.com/jquery-1.12.4.min.js&quot;&gt;&lt;/script&gt;\n",
       "    &lt;script src=&quot;https://maxcdn.bootstrapcdn.com/bootstrap/3.2.0/js/bootstrap.min.js&quot;&gt;&lt;/script&gt;\n",
       "    &lt;script src=&quot;https://cdnjs.cloudflare.com/ajax/libs/Leaflet.awesome-markers/2.0.2/leaflet.awesome-markers.js&quot;&gt;&lt;/script&gt;\n",
       "    &lt;link rel=&quot;stylesheet&quot; href=&quot;https://cdn.jsdelivr.net/npm/leaflet@1.6.0/dist/leaflet.css&quot;/&gt;\n",
       "    &lt;link rel=&quot;stylesheet&quot; href=&quot;https://maxcdn.bootstrapcdn.com/bootstrap/3.2.0/css/bootstrap.min.css&quot;/&gt;\n",
       "    &lt;link rel=&quot;stylesheet&quot; href=&quot;https://maxcdn.bootstrapcdn.com/bootstrap/3.2.0/css/bootstrap-theme.min.css&quot;/&gt;\n",
       "    &lt;link rel=&quot;stylesheet&quot; href=&quot;https://maxcdn.bootstrapcdn.com/font-awesome/4.6.3/css/font-awesome.min.css&quot;/&gt;\n",
       "    &lt;link rel=&quot;stylesheet&quot; href=&quot;https://cdnjs.cloudflare.com/ajax/libs/Leaflet.awesome-markers/2.0.2/leaflet.awesome-markers.css&quot;/&gt;\n",
       "    &lt;link rel=&quot;stylesheet&quot; href=&quot;https://cdn.jsdelivr.net/gh/python-visualization/folium/folium/templates/leaflet.awesome.rotate.min.css&quot;/&gt;\n",
       "    \n",
       "            &lt;meta name=&quot;viewport&quot; content=&quot;width=device-width,\n",
       "                initial-scale=1.0, maximum-scale=1.0, user-scalable=no&quot; /&gt;\n",
       "            &lt;style&gt;\n",
       "                #map_fc5bd680e481ea29faa2c58668652585 {\n",
       "                    position: relative;\n",
       "                    width: 100.0%;\n",
       "                    height: 100.0%;\n",
       "                    left: 0.0%;\n",
       "                    top: 0.0%;\n",
       "                }\n",
       "            &lt;/style&gt;\n",
       "        \n",
       "&lt;/head&gt;\n",
       "&lt;body&gt;\n",
       "    \n",
       "    \n",
       "            &lt;div class=&quot;folium-map&quot; id=&quot;map_fc5bd680e481ea29faa2c58668652585&quot; &gt;&lt;/div&gt;\n",
       "        \n",
       "&lt;/body&gt;\n",
       "&lt;script&gt;\n",
       "    \n",
       "    \n",
       "            var map_fc5bd680e481ea29faa2c58668652585 = L.map(\n",
       "                &quot;map_fc5bd680e481ea29faa2c58668652585&quot;,\n",
       "                {\n",
       "                    center: [26.232276528324824, -97.68665680756838],\n",
       "                    crs: L.CRS.EPSG3857,\n",
       "                    zoom: 18,\n",
       "                    zoomControl: true,\n",
       "                    preferCanvas: false,\n",
       "                    name: &quot;Esri Satellite&quot;,\n",
       "                    overlay: false,\n",
       "                    control: true,\n",
       "                }\n",
       "            );\n",
       "\n",
       "            \n",
       "\n",
       "        \n",
       "    \n",
       "            var tile_layer_0cdbdc7e8dc5f5c3b7f8e7246600d299 = L.tileLayer(\n",
       "                &quot;https://server.arcgisonline.com/ArcGIS/rest/services/World_Imagery/MapServer/tile/{z}/{y}/{x}&quot;,\n",
       "                {&quot;attribution&quot;: &quot;Esri&quot;, &quot;detectRetina&quot;: false, &quot;maxNativeZoom&quot;: 18, &quot;maxZoom&quot;: 18, &quot;minZoom&quot;: 0, &quot;noWrap&quot;: false, &quot;opacity&quot;: 1, &quot;subdomains&quot;: &quot;abc&quot;, &quot;tms&quot;: false}\n",
       "            ).addTo(map_fc5bd680e481ea29faa2c58668652585);\n",
       "        \n",
       "    \n",
       "        function geo_json_2495429d9500cca2ff4da0e982c79ddb_styler(feature) {\n",
       "            switch(feature.id) {\n",
       "                default:\n",
       "                    return {&quot;color&quot;: &quot;green&quot;, &quot;fillColor&quot;: &quot;green&quot;, &quot;weight&quot;: 0.5};\n",
       "            }\n",
       "        }\n",
       "\n",
       "        function geo_json_2495429d9500cca2ff4da0e982c79ddb_onEachFeature(feature, layer) {\n",
       "            layer.on({\n",
       "            });\n",
       "        };\n",
       "        var geo_json_2495429d9500cca2ff4da0e982c79ddb = L.geoJson(null, {\n",
       "                onEachFeature: geo_json_2495429d9500cca2ff4da0e982c79ddb_onEachFeature,\n",
       "            \n",
       "                style: geo_json_2495429d9500cca2ff4da0e982c79ddb_styler,\n",
       "        });\n",
       "\n",
       "        function geo_json_2495429d9500cca2ff4da0e982c79ddb_add (data) {\n",
       "            geo_json_2495429d9500cca2ff4da0e982c79ddb\n",
       "                .addData(data)\n",
       "                .addTo(map_fc5bd680e481ea29faa2c58668652585);\n",
       "        }\n",
       "            geo_json_2495429d9500cca2ff4da0e982c79ddb_add({&quot;features&quot;: [{&quot;geometry&quot;: {&quot;coordinates&quot;: [[[-97.68665680756838, 26.232276528324824], [-97.68655939224026, 26.23233408161951], [-97.68656582794326, 26.232439782519297], [-97.68666967915479, 26.232487930172333], [-97.6867670946104, 26.23243037683356], [-97.686760658727, 26.23232467588583], [-97.68665680756838, 26.232276528324824]]], &quot;type&quot;: &quot;Polygon&quot;}, &quot;id&quot;: &quot;0&quot;, &quot;type&quot;: &quot;Feature&quot;}], &quot;type&quot;: &quot;FeatureCollection&quot;});\n",
       "\n",
       "        \n",
       "    \n",
       "        var popup_a416589108c1a15b03eb61beda873e6a = L.popup({&quot;maxWidth&quot;: &quot;100%&quot;});\n",
       "\n",
       "        \n",
       "            \n",
       "                var html_d1eecd55fefb4c6b3678fa3f1b3a014b = $(`&lt;div id=&quot;html_d1eecd55fefb4c6b3678fa3f1b3a014b&quot; style=&quot;width: 100.0%; height: 100.0%;&quot;&gt;8c48b3c7339c7ff&lt;/div&gt;`)[0];\n",
       "                popup_a416589108c1a15b03eb61beda873e6a.setContent(html_d1eecd55fefb4c6b3678fa3f1b3a014b);\n",
       "            \n",
       "        \n",
       "\n",
       "        geo_json_2495429d9500cca2ff4da0e982c79ddb.bindPopup(popup_a416589108c1a15b03eb61beda873e6a)\n",
       "        ;\n",
       "\n",
       "        \n",
       "    \n",
       "&lt;/script&gt;\n",
       "&lt;/html&gt;\" style=\"position:absolute;width:100%;height:100%;left:0;top:0;border:none !important;\" allowfullscreen webkitallowfullscreen mozallowfullscreen></iframe></div></div>"
      ],
      "text/plain": [
       "<folium.folium.Map at 0x1bd548cc358>"
      ]
     },
     "execution_count": 3,
     "metadata": {},
     "output_type": "execute_result"
    }
   ],
   "source": [
    "h = '8c48b3c7339c7ff'\n",
    "\n",
    "\n",
    "center = h3.h3_to_geo_boundary(h=h,geo_json=True)\n",
    "\n",
    "m = folium.Map(location=(center[0][1], center[0][0]),\n",
    "                tiles = 'https://server.arcgisonline.com/ArcGIS/rest/services/World_Imagery/MapServer/tile/{z}/{y}/{x}',\n",
    "                attr = 'Esri',\n",
    "                name = 'Esri Satellite',\n",
    "                zoom_start=18,\n",
    "                overlay = False,\n",
    "                control = True)\n",
    "\n",
    "\n",
    "geometry = { \"type\" : \"Polygon\", \"coordinates\": [h3.h3_to_geo_boundary(h=h,geo_json=True)]}\n",
    "geo_j = folium.GeoJson(data=geometry, style_function=lambda x: {'fillColor': 'green', 'color': 'green', 'weight': 0.5})\n",
    "folium.Popup(str(h)).add_to(geo_j)\n",
    "geo_j.add_to(m)\n",
    "m"
   ]
  },
  {
   "cell_type": "code",
   "execution_count": 42,
   "id": "51947bc0",
   "metadata": {},
   "outputs": [
    {
     "name": "stdout",
     "output_type": "stream",
     "text": [
      "8125  files loaded\n"
     ]
    }
   ],
   "source": [
    "from pathlib import Path\n",
    "import pandas as pd\n",
    "\n",
    "\n",
    "lpaths = []\n",
    "for path in Path('D:\\\\173_seeding_harvest_joined_USCA.parquet').rglob('*.parquet'):\n",
    "    lpaths.append(str(path))\n",
    "    \n",
    "paths = Path('D:\\\\173_seeding_harvest_joined_USCA.parquet').rglob('*.parquet')\n",
    "total = len(lpaths)\n",
    "print(total, ' files loaded')"
   ]
  },
  {
   "cell_type": "code",
   "execution_count": 45,
   "id": "ea86f46d",
   "metadata": {},
   "outputs": [
    {
     "name": "stdout",
     "output_type": "stream",
     "text": [
      "( 4830 / 8125 ) D:\\173_seeding_harvest_joined_USCA.parquet\\positive_samples\\hex_index_L3=8348eefffffffff\\S2B_12SXA_20210116_0_L2A.parquet\r"
     ]
    }
   ],
   "source": [
    "fields = []\n",
    "\n",
    "for idx,file in enumerate(paths):\n",
    "    print('(', idx, '/', total, ')', file,  end='\\r')\n",
    "    df = pd.read_parquet(file, engine='pyarrow')\n",
    "    unique_fields = df.FIELD_OPERATION_GUID.unique()\n",
    "    for u in unique_fields:\n",
    "        fields.append(u)"
   ]
  },
  {
   "cell_type": "code",
   "execution_count": 46,
   "id": "5220a30b",
   "metadata": {},
   "outputs": [
    {
     "name": "stdout",
     "output_type": "stream",
     "text": [
      "141555 fields found\n",
      "2813 unique fields found\n"
     ]
    }
   ],
   "source": [
    "print(len(fields), 'fields found')\n",
    "print(len(set(fields)), 'unique fields found')"
   ]
  },
  {
   "cell_type": "code",
   "execution_count": 47,
   "id": "107c95e7",
   "metadata": {},
   "outputs": [
    {
     "name": "stdout",
     "output_type": "stream",
     "text": [
      "2813  fields written to file\n"
     ]
    }
   ],
   "source": [
    "import csv\n",
    "\n",
    "with open('fields.csv', 'w') as f:\n",
    "      \n",
    "    # using csv.writer method from CSV package\n",
    "    write = csv.writer(f)\n",
    "      \n",
    "    write.writerow(set(fields))\n",
    "print(len(set(fields)), ' fields written to file')"
   ]
  },
  {
   "cell_type": "code",
   "execution_count": 75,
   "id": "fc713265",
   "metadata": {},
   "outputs": [
    {
     "name": "stdout",
     "output_type": "stream",
     "text": [
      "tf.Tensor(b'cow', shape=(), dtype=string)\n",
      "tf.Tensor(b'horse', shape=(), dtype=string)\n",
      "tf.Tensor(b'chicken', shape=(), dtype=string)\n"
     ]
    },
    {
     "ename": "ValueError",
     "evalue": "Attempt to convert a value (<_UniqueDataset element_spec=TensorSpec(shape=(), dtype=tf.string, name=None)>) with an unsupported type (<class 'tensorflow.python.data.ops.dataset_ops._UniqueDataset'>) to a Tensor.",
     "output_type": "error",
     "traceback": [
      "\u001b[1;31m---------------------------------------------------------------------------\u001b[0m",
      "\u001b[1;31mValueError\u001b[0m                                Traceback (most recent call last)",
      "\u001b[1;32m~\\AppData\\Local\\Temp\\ipykernel_23152\\3732130808.py\u001b[0m in \u001b[0;36m<module>\u001b[1;34m\u001b[0m\n\u001b[0;32m     26\u001b[0m \u001b[1;33m\u001b[0m\u001b[0m\n\u001b[0;32m     27\u001b[0m \u001b[1;33m\u001b[0m\u001b[0m\n\u001b[1;32m---> 28\u001b[1;33m \u001b[0mprint\u001b[0m\u001b[1;33m(\u001b[0m\u001b[0mtf\u001b[0m\u001b[1;33m.\u001b[0m\u001b[0munique_with_counts\u001b[0m\u001b[1;33m(\u001b[0m\u001b[0munique_animals\u001b[0m\u001b[1;33m)\u001b[0m\u001b[1;33m)\u001b[0m\u001b[1;33m\u001b[0m\u001b[1;33m\u001b[0m\u001b[0m\n\u001b[0m",
      "\u001b[1;32mc:\\users\\en89912\\pycharmprojects\\fieldboundarydetection\\venv\\lib\\site-packages\\tensorflow\\python\\util\\traceback_utils.py\u001b[0m in \u001b[0;36merror_handler\u001b[1;34m(*args, **kwargs)\u001b[0m\n\u001b[0;32m    151\u001b[0m     \u001b[1;32mexcept\u001b[0m \u001b[0mException\u001b[0m \u001b[1;32mas\u001b[0m \u001b[0me\u001b[0m\u001b[1;33m:\u001b[0m\u001b[1;33m\u001b[0m\u001b[1;33m\u001b[0m\u001b[0m\n\u001b[0;32m    152\u001b[0m       \u001b[0mfiltered_tb\u001b[0m \u001b[1;33m=\u001b[0m \u001b[0m_process_traceback_frames\u001b[0m\u001b[1;33m(\u001b[0m\u001b[0me\u001b[0m\u001b[1;33m.\u001b[0m\u001b[0m__traceback__\u001b[0m\u001b[1;33m)\u001b[0m\u001b[1;33m\u001b[0m\u001b[1;33m\u001b[0m\u001b[0m\n\u001b[1;32m--> 153\u001b[1;33m       \u001b[1;32mraise\u001b[0m \u001b[0me\u001b[0m\u001b[1;33m.\u001b[0m\u001b[0mwith_traceback\u001b[0m\u001b[1;33m(\u001b[0m\u001b[0mfiltered_tb\u001b[0m\u001b[1;33m)\u001b[0m \u001b[1;32mfrom\u001b[0m \u001b[1;32mNone\u001b[0m\u001b[1;33m\u001b[0m\u001b[1;33m\u001b[0m\u001b[0m\n\u001b[0m\u001b[0;32m    154\u001b[0m     \u001b[1;32mfinally\u001b[0m\u001b[1;33m:\u001b[0m\u001b[1;33m\u001b[0m\u001b[1;33m\u001b[0m\u001b[0m\n\u001b[0;32m    155\u001b[0m       \u001b[1;32mdel\u001b[0m \u001b[0mfiltered_tb\u001b[0m\u001b[1;33m\u001b[0m\u001b[1;33m\u001b[0m\u001b[0m\n",
      "\u001b[1;32mc:\\users\\en89912\\pycharmprojects\\fieldboundarydetection\\venv\\lib\\site-packages\\tensorflow\\python\\framework\\constant_op.py\u001b[0m in \u001b[0;36mconvert_to_eager_tensor\u001b[1;34m(value, ctx, dtype)\u001b[0m\n\u001b[0;32m    100\u001b[0m       \u001b[0mdtype\u001b[0m \u001b[1;33m=\u001b[0m \u001b[0mdtypes\u001b[0m\u001b[1;33m.\u001b[0m\u001b[0mas_dtype\u001b[0m\u001b[1;33m(\u001b[0m\u001b[0mdtype\u001b[0m\u001b[1;33m)\u001b[0m\u001b[1;33m.\u001b[0m\u001b[0mas_datatype_enum\u001b[0m\u001b[1;33m\u001b[0m\u001b[1;33m\u001b[0m\u001b[0m\n\u001b[0;32m    101\u001b[0m   \u001b[0mctx\u001b[0m\u001b[1;33m.\u001b[0m\u001b[0mensure_initialized\u001b[0m\u001b[1;33m(\u001b[0m\u001b[1;33m)\u001b[0m\u001b[1;33m\u001b[0m\u001b[1;33m\u001b[0m\u001b[0m\n\u001b[1;32m--> 102\u001b[1;33m   \u001b[1;32mreturn\u001b[0m \u001b[0mops\u001b[0m\u001b[1;33m.\u001b[0m\u001b[0mEagerTensor\u001b[0m\u001b[1;33m(\u001b[0m\u001b[0mvalue\u001b[0m\u001b[1;33m,\u001b[0m \u001b[0mctx\u001b[0m\u001b[1;33m.\u001b[0m\u001b[0mdevice_name\u001b[0m\u001b[1;33m,\u001b[0m \u001b[0mdtype\u001b[0m\u001b[1;33m)\u001b[0m\u001b[1;33m\u001b[0m\u001b[1;33m\u001b[0m\u001b[0m\n\u001b[0m\u001b[0;32m    103\u001b[0m \u001b[1;33m\u001b[0m\u001b[0m\n\u001b[0;32m    104\u001b[0m \u001b[1;33m\u001b[0m\u001b[0m\n",
      "\u001b[1;31mValueError\u001b[0m: Attempt to convert a value (<_UniqueDataset element_spec=TensorSpec(shape=(), dtype=tf.string, name=None)>) with an unsupported type (<class 'tensorflow.python.data.ops.dataset_ops._UniqueDataset'>) to a Tensor."
     ]
    }
   ],
   "source": [
    "import tensorflow as tf\n",
    "import pandas as pd\n",
    "\n",
    "df = pd.DataFrame({'animal': ['cow', 'horse', 'cow', 'chicken'], 'age': [10, 4, 7, 6]})\n",
    "#display(df)\n",
    "\n",
    "ds = (\n",
    "    tf.data.Dataset.from_tensor_slices(\n",
    "        (\n",
    "            dict(df)\n",
    "        )\n",
    "    )\n",
    ")\n",
    "\n",
    "def get_animals(row):\n",
    "    #tf.print(row['animal'])\n",
    "    return row['animal']\n",
    "\n",
    "animals = ds.map(get_animals)\n",
    "for a in animals:\n",
    "    pass\n",
    "unique_animals = animals.unique()\n",
    "\n",
    "for a in unique_animals:\n",
    "    print(a)\n",
    "\n",
    "\n",
    "print(tf.unique_with_counts(unique_animals))"
   ]
  },
  {
   "cell_type": "code",
   "execution_count": null,
   "id": "c0f7dc90",
   "metadata": {},
   "outputs": [],
   "source": []
  }
 ],
 "metadata": {
  "kernelspec": {
   "display_name": "Python 3 (ipykernel)",
   "language": "python",
   "name": "python3"
  },
  "language_info": {
   "codemirror_mode": {
    "name": "ipython",
    "version": 3
   },
   "file_extension": ".py",
   "mimetype": "text/x-python",
   "name": "python",
   "nbconvert_exporter": "python",
   "pygments_lexer": "ipython3",
   "version": "3.7.1"
  }
 },
 "nbformat": 4,
 "nbformat_minor": 5
}
